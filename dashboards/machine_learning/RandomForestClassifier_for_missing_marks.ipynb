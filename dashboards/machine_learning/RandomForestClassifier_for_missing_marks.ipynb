{
 "cells": [
  {
   "cell_type": "code",
   "execution_count": 3,
   "metadata": {},
   "outputs": [],
   "source": [
    "import pandas as pd\n",
    "import matplotlib\n",
    "import matplotlib.pyplot as plt\n",
    "import numpy as np\n",
    "import seaborn as sns \n",
    "from sklearn.preprocessing import StandardScaler\n",
    "from sklearn.ensemble import RandomForestClassifier\n",
    "from sklearn.model_selection import train_test_split\n",
    "from sklearn.metrics import accuracy_score, confusion_matrix, classification_report\n",
    "\n",
    "from explainerdashboard import ClassifierExplainer, ExplainerDashboard"
   ]
  },
  {
   "cell_type": "code",
   "execution_count": 4,
   "metadata": {},
   "outputs": [],
   "source": [
    "missing_marks = pd.read_csv('./../../datasets/missingmarks_clean_data.csv')"
   ]
  },
  {
   "cell_type": "code",
   "execution_count": 5,
   "metadata": {},
   "outputs": [],
   "source": [
    "x = missing_marks.drop(columns=['institution', 'system', 'feature'])\n",
    "y = missing_marks['feature']"
   ]
  },
  {
   "cell_type": "code",
   "execution_count": 9,
   "metadata": {},
   "outputs": [
    {
     "data": {
      "text/plain": [
       "Index(['data_loss_gen', 'data_loss_human', 'data_loss_machine',\n",
       "       'data_loss_hybrid', 'system_error_chance'],\n",
       "      dtype='object')"
      ]
     },
     "execution_count": 9,
     "metadata": {},
     "output_type": "execute_result"
    }
   ],
   "source": [
    "x.columns"
   ]
  },
  {
   "cell_type": "code",
   "execution_count": 6,
   "metadata": {},
   "outputs": [],
   "source": [
    "x_train_val, x_test, y_train_val, y_test = train_test_split(x, y, test_size=0.2, random_state=30)"
   ]
  },
  {
   "cell_type": "code",
   "execution_count": 7,
   "metadata": {},
   "outputs": [],
   "source": [
    "x_train, x_val, y_train, y_val = train_test_split(x_train_val, y_train_val, test_size=0.25, random_state=30)"
   ]
  },
  {
   "cell_type": "code",
   "execution_count": 21,
   "metadata": {},
   "outputs": [
    {
     "data": {
      "text/plain": [
       "(2010, 5)"
      ]
     },
     "execution_count": 21,
     "metadata": {},
     "output_type": "execute_result"
    }
   ],
   "source": [
    "x_test.shape"
   ]
  },
  {
   "cell_type": "code",
   "execution_count": 10,
   "metadata": {},
   "outputs": [],
   "source": [
    "feature_description ={\n",
    "    'data_loss_gen': \"General reasons for data loss\",\n",
    "    'data_loss_human': \"Human related reasons for data loss\",\n",
    "    'data_loss_machine': \"Machine related reasons for data loss\",\n",
    "    'data_loss_hybrid': \"Human and machine related reasons for data loss\",\n",
    "    'system_error_chance': \"General error chance on Digital and Hybrid sytems\"\n",
    "}"
   ]
  },
  {
   "cell_type": "code",
   "execution_count": 8,
   "metadata": {},
   "outputs": [],
   "source": [
    "rf_tuned = RandomForestClassifier(\n",
    "    random_state=42,\n",
    "    n_estimators=4,\n",
    "    max_features='sqrt',\n",
    "    max_leaf_nodes=4,\n",
    "    max_depth=4,\n",
    "    min_impurity_decrease=1e-5,\n",
    "    bootstrap=True,\n",
    "    max_samples=0.9,\n",
    ")"
   ]
  },
  {
   "cell_type": "code",
   "execution_count": 11,
   "metadata": {},
   "outputs": [
    {
     "data": {
      "text/html": [
       "<style>#sk-container-id-1 {color: black;background-color: white;}#sk-container-id-1 pre{padding: 0;}#sk-container-id-1 div.sk-toggleable {background-color: white;}#sk-container-id-1 label.sk-toggleable__label {cursor: pointer;display: block;width: 100%;margin-bottom: 0;padding: 0.3em;box-sizing: border-box;text-align: center;}#sk-container-id-1 label.sk-toggleable__label-arrow:before {content: \"▸\";float: left;margin-right: 0.25em;color: #696969;}#sk-container-id-1 label.sk-toggleable__label-arrow:hover:before {color: black;}#sk-container-id-1 div.sk-estimator:hover label.sk-toggleable__label-arrow:before {color: black;}#sk-container-id-1 div.sk-toggleable__content {max-height: 0;max-width: 0;overflow: hidden;text-align: left;background-color: #f0f8ff;}#sk-container-id-1 div.sk-toggleable__content pre {margin: 0.2em;color: black;border-radius: 0.25em;background-color: #f0f8ff;}#sk-container-id-1 input.sk-toggleable__control:checked~div.sk-toggleable__content {max-height: 200px;max-width: 100%;overflow: auto;}#sk-container-id-1 input.sk-toggleable__control:checked~label.sk-toggleable__label-arrow:before {content: \"▾\";}#sk-container-id-1 div.sk-estimator input.sk-toggleable__control:checked~label.sk-toggleable__label {background-color: #d4ebff;}#sk-container-id-1 div.sk-label input.sk-toggleable__control:checked~label.sk-toggleable__label {background-color: #d4ebff;}#sk-container-id-1 input.sk-hidden--visually {border: 0;clip: rect(1px 1px 1px 1px);clip: rect(1px, 1px, 1px, 1px);height: 1px;margin: -1px;overflow: hidden;padding: 0;position: absolute;width: 1px;}#sk-container-id-1 div.sk-estimator {font-family: monospace;background-color: #f0f8ff;border: 1px dotted black;border-radius: 0.25em;box-sizing: border-box;margin-bottom: 0.5em;}#sk-container-id-1 div.sk-estimator:hover {background-color: #d4ebff;}#sk-container-id-1 div.sk-parallel-item::after {content: \"\";width: 100%;border-bottom: 1px solid gray;flex-grow: 1;}#sk-container-id-1 div.sk-label:hover label.sk-toggleable__label {background-color: #d4ebff;}#sk-container-id-1 div.sk-serial::before {content: \"\";position: absolute;border-left: 1px solid gray;box-sizing: border-box;top: 0;bottom: 0;left: 50%;z-index: 0;}#sk-container-id-1 div.sk-serial {display: flex;flex-direction: column;align-items: center;background-color: white;padding-right: 0.2em;padding-left: 0.2em;position: relative;}#sk-container-id-1 div.sk-item {position: relative;z-index: 1;}#sk-container-id-1 div.sk-parallel {display: flex;align-items: stretch;justify-content: center;background-color: white;position: relative;}#sk-container-id-1 div.sk-item::before, #sk-container-id-1 div.sk-parallel-item::before {content: \"\";position: absolute;border-left: 1px solid gray;box-sizing: border-box;top: 0;bottom: 0;left: 50%;z-index: -1;}#sk-container-id-1 div.sk-parallel-item {display: flex;flex-direction: column;z-index: 1;position: relative;background-color: white;}#sk-container-id-1 div.sk-parallel-item:first-child::after {align-self: flex-end;width: 50%;}#sk-container-id-1 div.sk-parallel-item:last-child::after {align-self: flex-start;width: 50%;}#sk-container-id-1 div.sk-parallel-item:only-child::after {width: 0;}#sk-container-id-1 div.sk-dashed-wrapped {border: 1px dashed gray;margin: 0 0.4em 0.5em 0.4em;box-sizing: border-box;padding-bottom: 0.4em;background-color: white;}#sk-container-id-1 div.sk-label label {font-family: monospace;font-weight: bold;display: inline-block;line-height: 1.2em;}#sk-container-id-1 div.sk-label-container {text-align: center;}#sk-container-id-1 div.sk-container {/* jupyter's `normalize.less` sets `[hidden] { display: none; }` but bootstrap.min.css set `[hidden] { display: none !important; }` so we also need the `!important` here to be able to override the default hidden behavior on the sphinx rendered scikit-learn.org. See: https://github.com/scikit-learn/scikit-learn/issues/21755 */display: inline-block !important;position: relative;}#sk-container-id-1 div.sk-text-repr-fallback {display: none;}</style><div id=\"sk-container-id-1\" class=\"sk-top-container\"><div class=\"sk-text-repr-fallback\"><pre>RandomForestClassifier(max_depth=4, max_leaf_nodes=4, max_samples=0.9,\n",
       "                       min_impurity_decrease=1e-05, n_estimators=4,\n",
       "                       random_state=42)</pre><b>In a Jupyter environment, please rerun this cell to show the HTML representation or trust the notebook. <br />On GitHub, the HTML representation is unable to render, please try loading this page with nbviewer.org.</b></div><div class=\"sk-container\" hidden><div class=\"sk-item\"><div class=\"sk-estimator sk-toggleable\"><input class=\"sk-toggleable__control sk-hidden--visually\" id=\"sk-estimator-id-1\" type=\"checkbox\" checked><label for=\"sk-estimator-id-1\" class=\"sk-toggleable__label sk-toggleable__label-arrow\">RandomForestClassifier</label><div class=\"sk-toggleable__content\"><pre>RandomForestClassifier(max_depth=4, max_leaf_nodes=4, max_samples=0.9,\n",
       "                       min_impurity_decrease=1e-05, n_estimators=4,\n",
       "                       random_state=42)</pre></div></div></div></div></div>"
      ],
      "text/plain": [
       "RandomForestClassifier(max_depth=4, max_leaf_nodes=4, max_samples=0.9,\n",
       "                       min_impurity_decrease=1e-05, n_estimators=4,\n",
       "                       random_state=42)"
      ]
     },
     "execution_count": 11,
     "metadata": {},
     "output_type": "execute_result"
    }
   ],
   "source": [
    "rf_tuned.fit(x_train, y_train)"
   ]
  },
  {
   "cell_type": "code",
   "execution_count": 22,
   "metadata": {},
   "outputs": [
    {
     "name": "stdout",
     "output_type": "stream",
     "text": [
      "Detected RandomForestClassifier model: Changing class type to RandomForestClassifierExplainer...\n",
      "Note: model_output=='probability', so assuming that raw shap output of RandomForestClassifier is in probability space...\n",
      "Generating self.shap_explainer = shap.TreeExplainer(model)\n"
     ]
    }
   ],
   "source": [
    "rf_explainer = ClassifierExplainer(rf_tuned, x_test, \n",
    "#cats=['data_loss_gen', 'data_loss_human', 'data_loss_machine', 'data_loss_hybrid', 'system_error_chance'],\n",
    "                                #cats_notencoded={'Embarked': 'Stowaway'}, # defaults to 'NOT_ENCODED'\n",
    "                                descriptions=feature_description, # adds a table and hover labels to dashboard\n",
    "                                labels=['Not Missing', 'Missing'], # defaults to ['0', '1', etc]\n",
    "                                #idxs = test_names, # defaults to X.index\n",
    "                                #index_name = \"Passenger\", # defaults to X.index.name\n",
    "                                target = \"feature\")# defaults to y.name)"
   ]
  },
  {
   "cell_type": "code",
   "execution_count": 23,
   "metadata": {},
   "outputs": [
    {
     "name": "stdout",
     "output_type": "stream",
     "text": [
      "Building ExplainerDashboard..\n",
      "Detected notebook environment, consider setting mode='external', mode='inline' or mode='jupyterlab' to keep the notebook interactive while the dashboard is running...\n",
      "No y labels were passed to the Explainer, so setting model_summary=False...\n",
      "Generating layout...\n",
      "Calculating shap values...\n"
     ]
    },
    {
     "name": "stderr",
     "output_type": "stream",
     "text": [
      "c:\\Users\\Sheasier Shisia\\AppData\\Local\\Programs\\Python\\Python310\\lib\\site-packages\\explainerdashboard\\explainer_methods.py:791: FutureWarning:\n",
      "\n",
      "In a future version, `df.iloc[:, i] = newvals` will attempt to set the values inplace instead of always setting a new array. To retain the old behavior, use either `df[df.columns[i]] = newvals` or, if columns are non-unique, `df.isetitem(i, newvals)`\n",
      "\n",
      "c:\\Users\\Sheasier Shisia\\AppData\\Local\\Programs\\Python\\Python310\\lib\\site-packages\\explainerdashboard\\explainer_methods.py:791: FutureWarning:\n",
      "\n",
      "In a future version, `df.iloc[:, i] = newvals` will attempt to set the values inplace instead of always setting a new array. To retain the old behavior, use either `df[df.columns[i]] = newvals` or, if columns are non-unique, `df.isetitem(i, newvals)`\n",
      "\n",
      "c:\\Users\\Sheasier Shisia\\AppData\\Local\\Programs\\Python\\Python310\\lib\\site-packages\\explainerdashboard\\explainer_methods.py:791: FutureWarning:\n",
      "\n",
      "In a future version, `df.iloc[:, i] = newvals` will attempt to set the values inplace instead of always setting a new array. To retain the old behavior, use either `df[df.columns[i]] = newvals` or, if columns are non-unique, `df.isetitem(i, newvals)`\n",
      "\n",
      "c:\\Users\\Sheasier Shisia\\AppData\\Local\\Programs\\Python\\Python310\\lib\\site-packages\\explainerdashboard\\explainer_methods.py:791: FutureWarning:\n",
      "\n",
      "In a future version, `df.iloc[:, i] = newvals` will attempt to set the values inplace instead of always setting a new array. To retain the old behavior, use either `df[df.columns[i]] = newvals` or, if columns are non-unique, `df.isetitem(i, newvals)`\n",
      "\n",
      "c:\\Users\\Sheasier Shisia\\AppData\\Local\\Programs\\Python\\Python310\\lib\\site-packages\\explainerdashboard\\explainer_methods.py:791: FutureWarning:\n",
      "\n",
      "In a future version, `df.iloc[:, i] = newvals` will attempt to set the values inplace instead of always setting a new array. To retain the old behavior, use either `df[df.columns[i]] = newvals` or, if columns are non-unique, `df.isetitem(i, newvals)`\n",
      "\n",
      "c:\\Users\\Sheasier Shisia\\AppData\\Local\\Programs\\Python\\Python310\\lib\\site-packages\\explainerdashboard\\explainer_methods.py:791: FutureWarning:\n",
      "\n",
      "In a future version, `df.iloc[:, i] = newvals` will attempt to set the values inplace instead of always setting a new array. To retain the old behavior, use either `df[df.columns[i]] = newvals` or, if columns are non-unique, `df.isetitem(i, newvals)`\n",
      "\n",
      "c:\\Users\\Sheasier Shisia\\AppData\\Local\\Programs\\Python\\Python310\\lib\\site-packages\\explainerdashboard\\explainer_methods.py:791: FutureWarning:\n",
      "\n",
      "In a future version, `df.iloc[:, i] = newvals` will attempt to set the values inplace instead of always setting a new array. To retain the old behavior, use either `df[df.columns[i]] = newvals` or, if columns are non-unique, `df.isetitem(i, newvals)`\n",
      "\n",
      "c:\\Users\\Sheasier Shisia\\AppData\\Local\\Programs\\Python\\Python310\\lib\\site-packages\\explainerdashboard\\explainer_methods.py:791: FutureWarning:\n",
      "\n",
      "In a future version, `df.iloc[:, i] = newvals` will attempt to set the values inplace instead of always setting a new array. To retain the old behavior, use either `df[df.columns[i]] = newvals` or, if columns are non-unique, `df.isetitem(i, newvals)`\n",
      "\n",
      "c:\\Users\\Sheasier Shisia\\AppData\\Local\\Programs\\Python\\Python310\\lib\\site-packages\\explainerdashboard\\explainer_methods.py:791: FutureWarning:\n",
      "\n",
      "In a future version, `df.iloc[:, i] = newvals` will attempt to set the values inplace instead of always setting a new array. To retain the old behavior, use either `df[df.columns[i]] = newvals` or, if columns are non-unique, `df.isetitem(i, newvals)`\n",
      "\n",
      "c:\\Users\\Sheasier Shisia\\AppData\\Local\\Programs\\Python\\Python310\\lib\\site-packages\\explainerdashboard\\explainer_methods.py:791: FutureWarning:\n",
      "\n",
      "In a future version, `df.iloc[:, i] = newvals` will attempt to set the values inplace instead of always setting a new array. To retain the old behavior, use either `df[df.columns[i]] = newvals` or, if columns are non-unique, `df.isetitem(i, newvals)`\n",
      "\n"
     ]
    },
    {
     "name": "stdout",
     "output_type": "stream",
     "text": [
      "Calculating dependencies...\n",
      "Calculating ShadowDecTree for each individual decision tree...\n",
      "Calculating predictions...\n",
      "Calculating prediction probabilities...\n",
      "Reminder: you can store the explainer (including calculated dependencies) with explainer.dump('explainer.joblib') and reload with e.g. ClassifierExplainer.from_file('explainer.joblib')\n",
      "Registering callbacks...\n"
     ]
    }
   ],
   "source": [
    "rf_explained = ExplainerDashboard(rf_explainer, \n",
    "                        title=\"Data Loss & Missing Marks Explainer\", # defaults to \"Model Explainer\"\n",
    "                        shap_interaction=False, # you can switch off tabs with bools\n",
    "                        )\n"
   ]
  },
  {
   "cell_type": "code",
   "execution_count": 24,
   "metadata": {},
   "outputs": [
    {
     "name": "stdout",
     "output_type": "stream",
     "text": [
      "Starting ExplainerDashboard on http://192.168.0.103:5000\n",
      "Dash is running on http://0.0.0.0:5000/\n",
      "\n",
      "Dash is running on http://0.0.0.0:5000/\n",
      "\n",
      " * Serving Flask app 'explainerdashboard.dashboards'\n",
      " * Debug mode: off\n"
     ]
    },
    {
     "name": "stderr",
     "output_type": "stream",
     "text": [
      "WARNING: This is a development server. Do not use it in a production deployment. Use a production WSGI server instead.\n",
      " * Running on all addresses (0.0.0.0)\n",
      " * Running on http://127.0.0.1:5000\n",
      " * Running on http://192.168.0.103:5000\n",
      "Press CTRL+C to quit\n",
      "192.168.0.103 - - [14/Jan/2023 17:04:20] \"GET / HTTP/1.1\" 200 -\n",
      "192.168.0.103 - - [14/Jan/2023 17:04:21] \"GET /assets/bootstrap.min.css?m=1673416985.5852113 HTTP/1.1\" 200 -\n",
      "192.168.0.103 - - [14/Jan/2023 17:04:21] \"GET /_dash-component-suites/dash/deps/polyfill@7.v2_6_2m1667463249.12.1.min.js HTTP/1.1\" 200 -\n",
      "192.168.0.103 - - [14/Jan/2023 17:04:21] \"GET /_dash-component-suites/dash/deps/react@16.v2_6_2m1667463249.14.0.min.js HTTP/1.1\" 200 -\n",
      "192.168.0.103 - - [14/Jan/2023 17:04:21] \"GET /_dash-component-suites/dash_bootstrap_components/_components/dash_bootstrap_components.v1_3_0m1673416982.min.js HTTP/1.1\" 200 -\n",
      "192.168.0.103 - - [14/Jan/2023 17:04:21] \"GET /_dash-component-suites/dash/deps/react-dom@16.v2_6_2m1667463249.14.0.min.js HTTP/1.1\" 200 -\n",
      "192.168.0.103 - - [14/Jan/2023 17:04:21] \"GET /_dash-component-suites/dash/deps/prop-types@15.v2_6_2m1667463249.8.1.min.js HTTP/1.1\" 200 -\n",
      "192.168.0.103 - - [14/Jan/2023 17:04:22] \"GET /_dash-component-suites/dash/dcc/dash_core_components.v2_6_2m1667463249.js HTTP/1.1\" 200 -\n",
      "192.168.0.103 - - [14/Jan/2023 17:04:22] \"GET /_dash-component-suites/dash/dcc/dash_core_components-shared.v2_6_2m1667463249.js HTTP/1.1\" 200 -\n",
      "192.168.0.103 - - [14/Jan/2023 17:04:22] \"GET /_dash-component-suites/dash/dash-renderer/build/dash_renderer.v2_6_2m1667463248.min.js HTTP/1.1\" 200 -\n",
      "192.168.0.103 - - [14/Jan/2023 17:04:22] \"GET /_dash-component-suites/dash/html/dash_html_components.v2_0_5m1667463250.min.js HTTP/1.1\" 200 -\n",
      "192.168.0.103 - - [14/Jan/2023 17:04:22] \"GET /_dash-component-suites/dash/dash_table/bundle.v5_1_6m1667463248.js HTTP/1.1\" 200 -\n",
      "192.168.0.103 - - [14/Jan/2023 17:04:24] \"GET /_dash-layout HTTP/1.1\" 200 -\n",
      "192.168.0.103 - - [14/Jan/2023 17:04:24] \"GET /_dash-dependencies HTTP/1.1\" 200 -\n",
      "192.168.0.103 - - [14/Jan/2023 17:04:25] \"GET /_dash-component-suites/dash/dcc/async-graph.js HTTP/1.1\" 200 -\n",
      "192.168.0.103 - - [14/Jan/2023 17:04:25] \"GET /_dash-component-suites/dash/dcc/async-dropdown.js HTTP/1.1\" 200 -\n",
      "192.168.0.103 - - [14/Jan/2023 17:04:25] \"GET /_dash-component-suites/dash/dcc/async-plotlyjs.js HTTP/1.1\" 200 -\n",
      "192.168.0.103 - - [14/Jan/2023 17:04:26] \"POST /_dash-update-component HTTP/1.1\" 204 -\n",
      "192.168.0.103 - - [14/Jan/2023 17:04:26] \"POST /_dash-update-component HTTP/1.1\" 200 -\n",
      "192.168.0.103 - - [14/Jan/2023 17:04:26] \"POST /_dash-update-component HTTP/1.1\" 200 -\n",
      "192.168.0.103 - - [14/Jan/2023 17:04:26] \"POST /_dash-update-component HTTP/1.1\" 200 -\n"
     ]
    },
    {
     "name": "stdout",
     "output_type": "stream",
     "text": [
      "Calculating pred_percentiles...\n"
     ]
    },
    {
     "name": "stderr",
     "output_type": "stream",
     "text": [
      "192.168.0.103 - - [14/Jan/2023 17:04:27] \"POST /_dash-update-component HTTP/1.1\" 200 -\n",
      "192.168.0.103 - - [14/Jan/2023 17:04:27] \"POST /_dash-update-component HTTP/1.1\" 200 -\n",
      "192.168.0.103 - - [14/Jan/2023 17:04:27] \"POST /_dash-update-component HTTP/1.1\" 200 -\n",
      "192.168.0.103 - - [14/Jan/2023 17:04:27] \"POST /_dash-update-component HTTP/1.1\" 200 -\n",
      "192.168.0.103 - - [14/Jan/2023 17:04:27] \"POST /_dash-update-component HTTP/1.1\" 200 -\n",
      "192.168.0.103 - - [14/Jan/2023 17:04:27] \"POST /_dash-update-component HTTP/1.1\" 200 -\n",
      "192.168.0.103 - - [14/Jan/2023 17:04:27] \"POST /_dash-update-component HTTP/1.1\" 200 -\n",
      "192.168.0.103 - - [14/Jan/2023 17:04:27] \"POST /_dash-update-component HTTP/1.1\" 200 -\n",
      "192.168.0.103 - - [14/Jan/2023 17:04:27] \"POST /_dash-update-component HTTP/1.1\" 200 -\n",
      "192.168.0.103 - - [14/Jan/2023 17:04:27] \"POST /_dash-update-component HTTP/1.1\" 200 -\n",
      "192.168.0.103 - - [14/Jan/2023 17:04:27] \"GET /assets/favicon.ico?m=1673416985.673553 HTTP/1.1\" 200 -\n",
      "192.168.0.103 - - [14/Jan/2023 17:04:27] \"POST /_dash-update-component HTTP/1.1\" 200 -\n",
      "192.168.0.103 - - [14/Jan/2023 17:04:27] \"POST /_dash-update-component HTTP/1.1\" 200 -\n",
      "192.168.0.103 - - [14/Jan/2023 17:04:28] \"POST /_dash-update-component HTTP/1.1\" 200 -\n",
      "192.168.0.103 - - [14/Jan/2023 17:04:28] \"POST /_dash-update-component HTTP/1.1\" 200 -\n",
      "192.168.0.103 - - [14/Jan/2023 17:04:28] \"POST /_dash-update-component HTTP/1.1\" 200 -\n",
      "192.168.0.103 - - [14/Jan/2023 17:04:29] \"POST /_dash-update-component HTTP/1.1\" 200 -\n",
      "192.168.0.103 - - [14/Jan/2023 17:04:29] \"POST /_dash-update-component HTTP/1.1\" 204 -\n",
      "192.168.0.103 - - [14/Jan/2023 17:04:29] \"POST /_dash-update-component HTTP/1.1\" 200 -\n",
      "192.168.0.103 - - [14/Jan/2023 17:04:29] \"POST /_dash-update-component HTTP/1.1\" 200 -\n",
      "192.168.0.103 - - [14/Jan/2023 17:04:29] \"POST /_dash-update-component HTTP/1.1\" 200 -\n",
      "192.168.0.103 - - [14/Jan/2023 17:04:29] \"POST /_dash-update-component HTTP/1.1\" 200 -\n",
      "192.168.0.103 - - [14/Jan/2023 17:04:29] \"POST /_dash-update-component HTTP/1.1\" 200 -\n",
      "192.168.0.103 - - [14/Jan/2023 17:04:29] \"POST /_dash-update-component HTTP/1.1\" 204 -\n",
      "192.168.0.103 - - [14/Jan/2023 17:04:29] \"POST /_dash-update-component HTTP/1.1\" 200 -\n",
      "192.168.0.103 - - [14/Jan/2023 17:04:29] \"POST /_dash-update-component HTTP/1.1\" 204 -\n",
      "192.168.0.103 - - [14/Jan/2023 17:04:29] \"POST /_dash-update-component HTTP/1.1\" 200 -\n",
      "192.168.0.103 - - [14/Jan/2023 17:04:29] \"POST /_dash-update-component HTTP/1.1\" 204 -\n",
      "192.168.0.103 - - [14/Jan/2023 17:04:29] \"POST /_dash-update-component HTTP/1.1\" 200 -\n",
      "192.168.0.103 - - [14/Jan/2023 17:04:30] \"POST /_dash-update-component HTTP/1.1\" 200 -\n",
      "192.168.0.103 - - [14/Jan/2023 17:04:30] \"POST /_dash-update-component HTTP/1.1\" 200 -\n",
      "192.168.0.103 - - [14/Jan/2023 17:04:30] \"POST /_dash-update-component HTTP/1.1\" 200 -\n",
      "192.168.0.103 - - [14/Jan/2023 17:04:30] \"POST /_dash-update-component HTTP/1.1\" 200 -\n",
      "192.168.0.103 - - [14/Jan/2023 17:04:30] \"POST /_dash-update-component HTTP/1.1\" 200 -\n",
      "192.168.0.103 - - [14/Jan/2023 17:04:30] \"POST /_dash-update-component HTTP/1.1\" 200 -\n",
      "192.168.0.103 - - [14/Jan/2023 17:04:30] \"POST /_dash-update-component HTTP/1.1\" 200 -\n",
      "192.168.0.103 - - [14/Jan/2023 17:04:30] \"POST /_dash-update-component HTTP/1.1\" 200 -\n",
      "192.168.0.103 - - [14/Jan/2023 17:04:30] \"POST /_dash-update-component HTTP/1.1\" 200 -\n",
      "192.168.0.103 - - [14/Jan/2023 17:04:30] \"POST /_dash-update-component HTTP/1.1\" 200 -\n",
      "192.168.0.103 - - [14/Jan/2023 17:04:30] \"POST /_dash-update-component HTTP/1.1\" 200 -\n",
      "192.168.0.103 - - [14/Jan/2023 17:04:30] \"POST /_dash-update-component HTTP/1.1\" 200 -\n",
      "192.168.0.103 - - [14/Jan/2023 17:04:31] \"POST /_dash-update-component HTTP/1.1\" 200 -\n",
      "192.168.0.103 - - [14/Jan/2023 17:04:31] \"POST /_dash-update-component HTTP/1.1\" 200 -\n",
      "192.168.0.103 - - [14/Jan/2023 17:04:31] \"POST /_dash-update-component HTTP/1.1\" 200 -\n",
      "192.168.0.103 - - [14/Jan/2023 17:04:31] \"POST /_dash-update-component HTTP/1.1\" 200 -\n",
      "192.168.0.103 - - [14/Jan/2023 17:04:31] \"POST /_dash-update-component HTTP/1.1\" 200 -\n",
      "192.168.0.103 - - [14/Jan/2023 17:04:31] \"POST /_dash-update-component HTTP/1.1\" 200 -\n",
      "192.168.0.103 - - [14/Jan/2023 17:04:31] \"POST /_dash-update-component HTTP/1.1\" 200 -\n",
      "192.168.0.103 - - [14/Jan/2023 17:04:31] \"POST /_dash-update-component HTTP/1.1\" 200 -\n"
     ]
    },
    {
     "name": "stdout",
     "output_type": "stream",
     "text": [
      "pos_label should either be int or str in self.labels!\n"
     ]
    },
    {
     "name": "stderr",
     "output_type": "stream",
     "text": [
      "192.168.0.103 - - [14/Jan/2023 17:04:32] \"POST /_dash-update-component HTTP/1.1\" 200 -\n",
      "c:\\Users\\Sheasier Shisia\\AppData\\Local\\Programs\\Python\\Python310\\lib\\site-packages\\explainerdashboard\\explainer_methods.py:791: FutureWarning:\n",
      "\n",
      "In a future version, `df.iloc[:, i] = newvals` will attempt to set the values inplace instead of always setting a new array. To retain the old behavior, use either `df[df.columns[i]] = newvals` or, if columns are non-unique, `df.isetitem(i, newvals)`\n",
      "\n",
      "c:\\Users\\Sheasier Shisia\\AppData\\Local\\Programs\\Python\\Python310\\lib\\site-packages\\explainerdashboard\\explainer_methods.py:791: FutureWarning:\n",
      "\n",
      "In a future version, `df.iloc[:, i] = newvals` will attempt to set the values inplace instead of always setting a new array. To retain the old behavior, use either `df[df.columns[i]] = newvals` or, if columns are non-unique, `df.isetitem(i, newvals)`\n",
      "\n",
      "c:\\Users\\Sheasier Shisia\\AppData\\Local\\Programs\\Python\\Python310\\lib\\site-packages\\explainerdashboard\\explainer_methods.py:791: FutureWarning:\n",
      "\n",
      "In a future version, `df.iloc[:, i] = newvals` will attempt to set the values inplace instead of always setting a new array. To retain the old behavior, use either `df[df.columns[i]] = newvals` or, if columns are non-unique, `df.isetitem(i, newvals)`\n",
      "\n",
      "c:\\Users\\Sheasier Shisia\\AppData\\Local\\Programs\\Python\\Python310\\lib\\site-packages\\explainerdashboard\\explainer_methods.py:791: FutureWarning:\n",
      "\n",
      "In a future version, `df.iloc[:, i] = newvals` will attempt to set the values inplace instead of always setting a new array. To retain the old behavior, use either `df[df.columns[i]] = newvals` or, if columns are non-unique, `df.isetitem(i, newvals)`\n",
      "\n",
      "c:\\Users\\Sheasier Shisia\\AppData\\Local\\Programs\\Python\\Python310\\lib\\site-packages\\explainerdashboard\\explainer_methods.py:791: FutureWarning:\n",
      "\n",
      "In a future version, `df.iloc[:, i] = newvals` will attempt to set the values inplace instead of always setting a new array. To retain the old behavior, use either `df[df.columns[i]] = newvals` or, if columns are non-unique, `df.isetitem(i, newvals)`\n",
      "\n",
      "c:\\Users\\Sheasier Shisia\\AppData\\Local\\Programs\\Python\\Python310\\lib\\site-packages\\explainerdashboard\\explainer_methods.py:791: FutureWarning:\n",
      "\n",
      "In a future version, `df.iloc[:, i] = newvals` will attempt to set the values inplace instead of always setting a new array. To retain the old behavior, use either `df[df.columns[i]] = newvals` or, if columns are non-unique, `df.isetitem(i, newvals)`\n",
      "\n",
      "c:\\Users\\Sheasier Shisia\\AppData\\Local\\Programs\\Python\\Python310\\lib\\site-packages\\explainerdashboard\\explainer_methods.py:791: FutureWarning:\n",
      "\n",
      "In a future version, `df.iloc[:, i] = newvals` will attempt to set the values inplace instead of always setting a new array. To retain the old behavior, use either `df[df.columns[i]] = newvals` or, if columns are non-unique, `df.isetitem(i, newvals)`\n",
      "\n",
      "c:\\Users\\Sheasier Shisia\\AppData\\Local\\Programs\\Python\\Python310\\lib\\site-packages\\explainerdashboard\\explainer_methods.py:791: FutureWarning:\n",
      "\n",
      "In a future version, `df.iloc[:, i] = newvals` will attempt to set the values inplace instead of always setting a new array. To retain the old behavior, use either `df[df.columns[i]] = newvals` or, if columns are non-unique, `df.isetitem(i, newvals)`\n",
      "\n",
      "192.168.0.103 - - [14/Jan/2023 17:04:32] \"POST /_dash-update-component HTTP/1.1\" 200 -\n",
      "c:\\Users\\Sheasier Shisia\\AppData\\Local\\Programs\\Python\\Python310\\lib\\site-packages\\explainerdashboard\\explainer_methods.py:791: FutureWarning:\n",
      "\n",
      "In a future version, `df.iloc[:, i] = newvals` will attempt to set the values inplace instead of always setting a new array. To retain the old behavior, use either `df[df.columns[i]] = newvals` or, if columns are non-unique, `df.isetitem(i, newvals)`\n",
      "\n",
      "c:\\Users\\Sheasier Shisia\\AppData\\Local\\Programs\\Python\\Python310\\lib\\site-packages\\explainerdashboard\\explainer_methods.py:791: FutureWarning:\n",
      "\n",
      "In a future version, `df.iloc[:, i] = newvals` will attempt to set the values inplace instead of always setting a new array. To retain the old behavior, use either `df[df.columns[i]] = newvals` or, if columns are non-unique, `df.isetitem(i, newvals)`\n",
      "\n",
      "192.168.0.103 - - [14/Jan/2023 17:04:32] \"POST /_dash-update-component HTTP/1.1\" 200 -\n",
      "192.168.0.103 - - [14/Jan/2023 17:04:32] \"POST /_dash-update-component HTTP/1.1\" 200 -\n",
      "192.168.0.103 - - [14/Jan/2023 17:04:32] \"POST /_dash-update-component HTTP/1.1\" 204 -\n",
      "192.168.0.103 - - [14/Jan/2023 17:04:33] \"POST /_dash-update-component HTTP/1.1\" 200 -\n",
      "c:\\Users\\Sheasier Shisia\\AppData\\Local\\Programs\\Python\\Python310\\lib\\site-packages\\explainerdashboard\\explainer_methods.py:791: FutureWarning:\n",
      "\n",
      "In a future version, `df.iloc[:, i] = newvals` will attempt to set the values inplace instead of always setting a new array. To retain the old behavior, use either `df[df.columns[i]] = newvals` or, if columns are non-unique, `df.isetitem(i, newvals)`\n",
      "\n",
      "c:\\Users\\Sheasier Shisia\\AppData\\Local\\Programs\\Python\\Python310\\lib\\site-packages\\explainerdashboard\\explainer_methods.py:791: FutureWarning:\n",
      "\n",
      "In a future version, `df.iloc[:, i] = newvals` will attempt to set the values inplace instead of always setting a new array. To retain the old behavior, use either `df[df.columns[i]] = newvals` or, if columns are non-unique, `df.isetitem(i, newvals)`\n",
      "\n",
      "c:\\Users\\Sheasier Shisia\\AppData\\Local\\Programs\\Python\\Python310\\lib\\site-packages\\explainerdashboard\\explainer_methods.py:791: FutureWarning:\n",
      "\n",
      "In a future version, `df.iloc[:, i] = newvals` will attempt to set the values inplace instead of always setting a new array. To retain the old behavior, use either `df[df.columns[i]] = newvals` or, if columns are non-unique, `df.isetitem(i, newvals)`\n",
      "\n",
      "c:\\Users\\Sheasier Shisia\\AppData\\Local\\Programs\\Python\\Python310\\lib\\site-packages\\explainerdashboard\\explainer_methods.py:791: FutureWarning:\n",
      "\n",
      "In a future version, `df.iloc[:, i] = newvals` will attempt to set the values inplace instead of always setting a new array. To retain the old behavior, use either `df[df.columns[i]] = newvals` or, if columns are non-unique, `df.isetitem(i, newvals)`\n",
      "\n",
      "c:\\Users\\Sheasier Shisia\\AppData\\Local\\Programs\\Python\\Python310\\lib\\site-packages\\explainerdashboard\\explainer_methods.py:791: FutureWarning:\n",
      "\n",
      "In a future version, `df.iloc[:, i] = newvals` will attempt to set the values inplace instead of always setting a new array. To retain the old behavior, use either `df[df.columns[i]] = newvals` or, if columns are non-unique, `df.isetitem(i, newvals)`\n",
      "\n",
      "c:\\Users\\Sheasier Shisia\\AppData\\Local\\Programs\\Python\\Python310\\lib\\site-packages\\explainerdashboard\\explainer_methods.py:791: FutureWarning:\n",
      "\n",
      "In a future version, `df.iloc[:, i] = newvals` will attempt to set the values inplace instead of always setting a new array. To retain the old behavior, use either `df[df.columns[i]] = newvals` or, if columns are non-unique, `df.isetitem(i, newvals)`\n",
      "\n",
      "c:\\Users\\Sheasier Shisia\\AppData\\Local\\Programs\\Python\\Python310\\lib\\site-packages\\explainerdashboard\\explainer_methods.py:791: FutureWarning:\n",
      "\n",
      "In a future version, `df.iloc[:, i] = newvals` will attempt to set the values inplace instead of always setting a new array. To retain the old behavior, use either `df[df.columns[i]] = newvals` or, if columns are non-unique, `df.isetitem(i, newvals)`\n",
      "\n",
      "c:\\Users\\Sheasier Shisia\\AppData\\Local\\Programs\\Python\\Python310\\lib\\site-packages\\explainerdashboard\\explainer_methods.py:791: FutureWarning:\n",
      "\n",
      "In a future version, `df.iloc[:, i] = newvals` will attempt to set the values inplace instead of always setting a new array. To retain the old behavior, use either `df[df.columns[i]] = newvals` or, if columns are non-unique, `df.isetitem(i, newvals)`\n",
      "\n",
      "c:\\Users\\Sheasier Shisia\\AppData\\Local\\Programs\\Python\\Python310\\lib\\site-packages\\explainerdashboard\\explainer_methods.py:791: FutureWarning:\n",
      "\n",
      "In a future version, `df.iloc[:, i] = newvals` will attempt to set the values inplace instead of always setting a new array. To retain the old behavior, use either `df[df.columns[i]] = newvals` or, if columns are non-unique, `df.isetitem(i, newvals)`\n",
      "\n",
      "c:\\Users\\Sheasier Shisia\\AppData\\Local\\Programs\\Python\\Python310\\lib\\site-packages\\explainerdashboard\\explainer_methods.py:791: FutureWarning:\n",
      "\n",
      "In a future version, `df.iloc[:, i] = newvals` will attempt to set the values inplace instead of always setting a new array. To retain the old behavior, use either `df[df.columns[i]] = newvals` or, if columns are non-unique, `df.isetitem(i, newvals)`\n",
      "\n",
      "192.168.0.103 - - [14/Jan/2023 17:04:33] \"POST /_dash-update-component HTTP/1.1\" 200 -\n",
      "192.168.0.103 - - [14/Jan/2023 17:04:33] \"POST /_dash-update-component HTTP/1.1\" 200 -\n"
     ]
    },
    {
     "name": "stdout",
     "output_type": "stream",
     "text": [
      "pos_label should either be int or str in self.labels!\n"
     ]
    },
    {
     "name": "stderr",
     "output_type": "stream",
     "text": [
      "192.168.0.103 - - [14/Jan/2023 17:04:33] \"POST /_dash-update-component HTTP/1.1\" 200 -\n",
      "192.168.0.103 - - [14/Jan/2023 17:04:33] \"POST /_dash-update-component HTTP/1.1\" 200 -\n",
      "192.168.0.103 - - [14/Jan/2023 17:04:33] \"POST /_dash-update-component HTTP/1.1\" 200 -\n",
      "192.168.0.103 - - [14/Jan/2023 17:04:33] \"POST /_dash-update-component HTTP/1.1\" 200 -\n",
      "192.168.0.103 - - [14/Jan/2023 17:04:33] \"POST /_dash-update-component HTTP/1.1\" 200 -\n",
      "192.168.0.103 - - [14/Jan/2023 17:04:39] \"GET /_dash-component-suites/dash/dcc/async-slider.js HTTP/1.1\" 200 -\n"
     ]
    }
   ],
   "source": [
    "rf_explained.run(port=5000)"
   ]
  },
  {
   "cell_type": "code",
   "execution_count": 85,
   "metadata": {},
   "outputs": [
    {
     "data": {
      "text/plain": [
       "(0.9653227144516343, 0.9701492537313433)"
      ]
     },
     "execution_count": 85,
     "metadata": {},
     "output_type": "execute_result"
    }
   ],
   "source": [
    "rf_tuned.score(x_train, y_train), rf_tuned.score(x_val, y_val)"
   ]
  },
  {
   "cell_type": "code",
   "execution_count": 87,
   "metadata": {},
   "outputs": [
    {
     "data": {
      "text/plain": [
       "0.9686567164179104"
      ]
     },
     "execution_count": 87,
     "metadata": {},
     "output_type": "execute_result"
    }
   ],
   "source": [
    "rf_tuned.score(x_test, y_test)"
   ]
  },
  {
   "cell_type": "code",
   "execution_count": 88,
   "metadata": {},
   "outputs": [],
   "source": [
    "predictions_1 = rf_tuned.predict(x_test)"
   ]
  },
  {
   "cell_type": "code",
   "execution_count": 90,
   "metadata": {},
   "outputs": [
    {
     "data": {
      "text/plain": [
       "array([[0.95701408, 0.04298592],\n",
       "       [0.95701408, 0.04298592],\n",
       "       [0.95701408, 0.04298592],\n",
       "       ...,\n",
       "       [0.97966998, 0.02033002],\n",
       "       [0.94933739, 0.05066261],\n",
       "       [0.96278195, 0.03721805]])"
      ]
     },
     "execution_count": 90,
     "metadata": {},
     "output_type": "execute_result"
    }
   ],
   "source": [
    "probability = rf_tuned.predict_proba(x_train)\n",
    "probability"
   ]
  },
  {
   "cell_type": "code",
   "execution_count": 96,
   "metadata": {},
   "outputs": [
    {
     "data": {
      "text/plain": [
       "array([[9.37781955e-01, 6.22180451e-02],\n",
       "       [9.52064903e-01, 4.79350974e-02],\n",
       "       [9.52064903e-01, 4.79350974e-02],\n",
       "       ...,\n",
       "       [9.52064903e-01, 4.79350974e-02],\n",
       "       [7.60650261e-04, 9.99239350e-01],\n",
       "       [9.57014080e-01, 4.29859196e-02]])"
      ]
     },
     "execution_count": 96,
     "metadata": {},
     "output_type": "execute_result"
    }
   ],
   "source": [
    "probability = rf_tuned.predict_proba(x_test)\n",
    "probability"
   ]
  },
  {
   "cell_type": "code",
   "execution_count": 91,
   "metadata": {},
   "outputs": [
    {
     "name": "stdout",
     "output_type": "stream",
     "text": [
      "Accuracy = 96.866%\n"
     ]
    }
   ],
   "source": [
    "\n",
    "\n",
    "accuracy = accuracy_score(y_test, predictions_1)\n",
    "print('Accuracy = {:.3f}%' .format(accuracy*100))"
   ]
  },
  {
   "cell_type": "code",
   "execution_count": 95,
   "metadata": {},
   "outputs": [
    {
     "name": "stdout",
     "output_type": "stream",
     "text": [
      "              precision    recall  f1-score   support\n",
      "\n",
      "           1       0.96      1.00      0.98      1689\n",
      "           2       1.00      0.81      0.89       321\n",
      "\n",
      "    accuracy                           0.97      2010\n",
      "   macro avg       0.98      0.90      0.94      2010\n",
      "weighted avg       0.97      0.97      0.97      2010\n",
      "\n"
     ]
    }
   ],
   "source": [
    "print(classification_report(y_test, predictions_1))"
   ]
  },
  {
   "cell_type": "code",
   "execution_count": null,
   "metadata": {},
   "outputs": [],
   "source": []
  }
 ],
 "metadata": {
  "kernelspec": {
   "display_name": "Python 3",
   "language": "python",
   "name": "python3"
  },
  "language_info": {
   "codemirror_mode": {
    "name": "ipython",
    "version": 3
   },
   "file_extension": ".py",
   "mimetype": "text/x-python",
   "name": "python",
   "nbconvert_exporter": "python",
   "pygments_lexer": "ipython3",
   "version": "3.10.8"
  },
  "orig_nbformat": 4,
  "vscode": {
   "interpreter": {
    "hash": "3f1aa13478e36dd9ec6f4270a1090621dfe91fe4a7f1018745dfdf5ab0f772d1"
   }
  }
 },
 "nbformat": 4,
 "nbformat_minor": 2
}
